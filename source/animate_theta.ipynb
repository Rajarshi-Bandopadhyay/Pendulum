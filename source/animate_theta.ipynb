import numpy as np
import matplotlib.pyplot as plt
import matplotlib.animation as animation
from theory import FrictionPendulum

conv = 180 / np.pi

pen = FrictionPendulum(0.3, 0.64e-2, 24.5e-2, 66.0e-2, 15)

def init():
    ax.set_ylim(-pen.init_angle * conv, pen.init_angle * conv)
    ax.set_xlim(0, 10)
    del xdata[:]
    del ydata[:]
    line.set_data(xdata, ydata)
    return line,

fig, ax = plt.subplots()
line, = ax.plot([], [], lw=2)
ax.grid()
xdata, ydata = [], []

def run(data):
    # update the data
    t, y = data
    xdata.append(t)
    ydata.append(y)
    xmin, xmax = ax.get_xlim()
    
    ax.set_ylim(-pen.init_angle * conv, pen.init_angle * conv)
    
    if t >= xmax:
        ax.set_xlim(xmin, 2*xmax)
        ax.figure.canvas.draw()
    line.set_data(xdata, ydata)

    return line,

ani = animation.FuncAnimation(fig, run, pen.theta_gen, blit=True, interval=10, repeat=False)
plt.show()
